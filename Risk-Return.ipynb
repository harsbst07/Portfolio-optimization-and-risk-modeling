{
 "cells": [
  {
   "cell_type": "code",
   "execution_count": 1,
   "id": "01e0f161-3f29-4864-b34f-dffcb5c23882",
   "metadata": {},
   "outputs": [
    {
     "data": {
      "text/html": [
       "        <script type=\"text/javascript\">\n",
       "        window.PlotlyConfig = {MathJaxConfig: 'local'};\n",
       "        if (window.MathJax && window.MathJax.Hub && window.MathJax.Hub.Config) {window.MathJax.Hub.Config({SVG: {font: \"STIX-Web\"}});}\n",
       "        </script>\n",
       "        <script type=\"module\">import \"https://cdn.plot.ly/plotly-3.1.0.min\"</script>\n",
       "        "
      ]
     },
     "metadata": {},
     "output_type": "display_data"
    }
   ],
   "source": [
    "import datetime as dt\n",
    "import pandas as pd\n",
    "import numpy as np\n",
    "import seaborn as sns\n",
    "import scipy.stats as stats\n",
    "from pandas_datareader import data as pdr\n",
    "import plotly.offline as pyo\n",
    "import yfinance as yf\n",
    "import plotly.graph_objects as go\n",
    "from IPython.display import FileLink\n",
    "from plotly.subplots import make_subplots\n",
    "\n",
    "pyo.init_notebook_mode(connected=True)\n",
    "pd.options.plotting.backend = \"plotly\""
   ]
  },
  {
   "cell_type": "code",
   "execution_count": 2,
   "id": "b722308f-de98-42a9-b68c-1c3622906027",
   "metadata": {},
   "outputs": [
    {
     "name": "stderr",
     "output_type": "stream",
     "text": [
      "C:\\Users\\HP\\AppData\\Local\\Temp\\ipykernel_68612\\2410027770.py:4: FutureWarning:\n",
      "\n",
      "YF.download() has changed argument auto_adjust default to True\n",
      "\n",
      "[*********************100%***********************]  5 of 5 completed\n"
     ]
    },
    {
     "data": {
      "text/html": [
       "<div>\n",
       "<style scoped>\n",
       "    .dataframe tbody tr th:only-of-type {\n",
       "        vertical-align: middle;\n",
       "    }\n",
       "\n",
       "    .dataframe tbody tr th {\n",
       "        vertical-align: top;\n",
       "    }\n",
       "\n",
       "    .dataframe thead th {\n",
       "        text-align: right;\n",
       "    }\n",
       "</style>\n",
       "<table border=\"1\" class=\"dataframe\">\n",
       "  <thead>\n",
       "    <tr style=\"text-align: right;\">\n",
       "      <th>Ticker</th>\n",
       "      <th>BHARTIARTL.NS</th>\n",
       "      <th>HDFCBANK.NS</th>\n",
       "      <th>ICICIBANK.BO</th>\n",
       "      <th>RELIANCE.NS</th>\n",
       "      <th>TCS.NS</th>\n",
       "    </tr>\n",
       "    <tr>\n",
       "      <th>Date</th>\n",
       "      <th></th>\n",
       "      <th></th>\n",
       "      <th></th>\n",
       "      <th></th>\n",
       "      <th></th>\n",
       "    </tr>\n",
       "  </thead>\n",
       "  <tbody>\n",
       "    <tr>\n",
       "      <th>2015-01-01</th>\n",
       "      <td>308.073547</td>\n",
       "      <td>212.546005</td>\n",
       "      <td>293.033264</td>\n",
       "      <td>189.999832</td>\n",
       "      <td>1073.510376</td>\n",
       "    </tr>\n",
       "    <tr>\n",
       "      <th>2015-01-02</th>\n",
       "      <td>309.898712</td>\n",
       "      <td>215.504059</td>\n",
       "      <td>301.258514</td>\n",
       "      <td>189.496948</td>\n",
       "      <td>1087.806519</td>\n",
       "    </tr>\n",
       "    <tr>\n",
       "      <th>2015-01-05</th>\n",
       "      <td>303.022461</td>\n",
       "      <td>213.684601</td>\n",
       "      <td>301.673920</td>\n",
       "      <td>187.421249</td>\n",
       "      <td>1071.274902</td>\n",
       "    </tr>\n",
       "    <tr>\n",
       "      <th>2015-01-06</th>\n",
       "      <td>300.645447</td>\n",
       "      <td>210.358139</td>\n",
       "      <td>289.003784</td>\n",
       "      <td>178.915237</td>\n",
       "      <td>1031.781128</td>\n",
       "    </tr>\n",
       "    <tr>\n",
       "      <th>2015-01-07</th>\n",
       "      <td>301.367035</td>\n",
       "      <td>210.972092</td>\n",
       "      <td>281.401672</td>\n",
       "      <td>182.809814</td>\n",
       "      <td>1019.593201</td>\n",
       "    </tr>\n",
       "  </tbody>\n",
       "</table>\n",
       "</div>"
      ],
      "text/plain": [
       "Ticker      BHARTIARTL.NS  HDFCBANK.NS  ICICIBANK.BO  RELIANCE.NS       TCS.NS\n",
       "Date                                                                          \n",
       "2015-01-01     308.073547   212.546005    293.033264   189.999832  1073.510376\n",
       "2015-01-02     309.898712   215.504059    301.258514   189.496948  1087.806519\n",
       "2015-01-05     303.022461   213.684601    301.673920   187.421249  1071.274902\n",
       "2015-01-06     300.645447   210.358139    289.003784   178.915237  1031.781128\n",
       "2015-01-07     301.367035   210.972092    281.401672   182.809814  1019.593201"
      ]
     },
     "execution_count": 2,
     "metadata": {},
     "output_type": "execute_result"
    }
   ],
   "source": [
    "end = dt.datetime.now()\n",
    "start = dt.datetime(2015,1,1)\n",
    "\n",
    "df = yf.download([\"RELIANCE.NS\",\"HDFCBANK.NS\",\"TCS.NS\",\"BHARTIARTL.NS\",\"ICICIBANK.BO\"],start,end)\n",
    "Close = df.Close\n",
    "Close.head()"
   ]
  },
  {
   "cell_type": "code",
   "execution_count": 3,
   "id": "e29cd163-45bc-4b07-b390-6c617f312dd7",
   "metadata": {},
   "outputs": [],
   "source": [
    "# Compute log returns"
   ]
  },
  {
   "cell_type": "code",
   "execution_count": 4,
   "id": "28df99a9-e059-42ae-a29f-4a6c8af5998b",
   "metadata": {},
   "outputs": [
    {
     "data": {
      "text/html": [
       "<div>\n",
       "<style scoped>\n",
       "    .dataframe tbody tr th:only-of-type {\n",
       "        vertical-align: middle;\n",
       "    }\n",
       "\n",
       "    .dataframe tbody tr th {\n",
       "        vertical-align: top;\n",
       "    }\n",
       "\n",
       "    .dataframe thead th {\n",
       "        text-align: right;\n",
       "    }\n",
       "</style>\n",
       "<table border=\"1\" class=\"dataframe\">\n",
       "  <thead>\n",
       "    <tr style=\"text-align: right;\">\n",
       "      <th>Ticker</th>\n",
       "      <th>BHARTIARTL.NS</th>\n",
       "      <th>HDFCBANK.NS</th>\n",
       "      <th>ICICIBANK.BO</th>\n",
       "      <th>RELIANCE.NS</th>\n",
       "      <th>TCS.NS</th>\n",
       "    </tr>\n",
       "    <tr>\n",
       "      <th>Date</th>\n",
       "      <th></th>\n",
       "      <th></th>\n",
       "      <th></th>\n",
       "      <th></th>\n",
       "      <th></th>\n",
       "    </tr>\n",
       "  </thead>\n",
       "  <tbody>\n",
       "    <tr>\n",
       "      <th>2015-01-02</th>\n",
       "      <td>0.005907</td>\n",
       "      <td>0.013821</td>\n",
       "      <td>0.027683</td>\n",
       "      <td>-0.002650</td>\n",
       "      <td>0.013229</td>\n",
       "    </tr>\n",
       "    <tr>\n",
       "      <th>2015-01-05</th>\n",
       "      <td>-0.022439</td>\n",
       "      <td>-0.008479</td>\n",
       "      <td>0.001378</td>\n",
       "      <td>-0.011014</td>\n",
       "      <td>-0.015314</td>\n",
       "    </tr>\n",
       "    <tr>\n",
       "      <th>2015-01-06</th>\n",
       "      <td>-0.007875</td>\n",
       "      <td>-0.015690</td>\n",
       "      <td>-0.042907</td>\n",
       "      <td>-0.046447</td>\n",
       "      <td>-0.037563</td>\n",
       "    </tr>\n",
       "    <tr>\n",
       "      <th>2015-01-07</th>\n",
       "      <td>0.002397</td>\n",
       "      <td>0.002914</td>\n",
       "      <td>-0.026657</td>\n",
       "      <td>0.021534</td>\n",
       "      <td>-0.011883</td>\n",
       "    </tr>\n",
       "    <tr>\n",
       "      <th>2015-01-08</th>\n",
       "      <td>0.017176</td>\n",
       "      <td>0.020788</td>\n",
       "      <td>0.024930</td>\n",
       "      <td>-0.014443</td>\n",
       "      <td>0.010737</td>\n",
       "    </tr>\n",
       "    <tr>\n",
       "      <th>...</th>\n",
       "      <td>...</td>\n",
       "      <td>...</td>\n",
       "      <td>...</td>\n",
       "      <td>...</td>\n",
       "      <td>...</td>\n",
       "    </tr>\n",
       "    <tr>\n",
       "      <th>2025-08-20</th>\n",
       "      <td>0.009745</td>\n",
       "      <td>-0.001458</td>\n",
       "      <td>-0.004291</td>\n",
       "      <td>-0.005012</td>\n",
       "      <td>0.026953</td>\n",
       "    </tr>\n",
       "    <tr>\n",
       "      <th>2025-08-21</th>\n",
       "      <td>0.000778</td>\n",
       "      <td>0.001508</td>\n",
       "      <td>0.010814</td>\n",
       "      <td>0.008316</td>\n",
       "      <td>0.001290</td>\n",
       "    </tr>\n",
       "    <tr>\n",
       "      <th>2025-08-22</th>\n",
       "      <td>0.001760</td>\n",
       "      <td>-0.013449</td>\n",
       "      <td>-0.006662</td>\n",
       "      <td>-0.011009</td>\n",
       "      <td>-0.015788</td>\n",
       "    </tr>\n",
       "    <tr>\n",
       "      <th>2025-08-25</th>\n",
       "      <td>-0.001346</td>\n",
       "      <td>-0.000255</td>\n",
       "      <td>-0.002091</td>\n",
       "      <td>0.002410</td>\n",
       "      <td>0.027962</td>\n",
       "    </tr>\n",
       "    <tr>\n",
       "      <th>2025-08-26</th>\n",
       "      <td>-0.014083</td>\n",
       "      <td>-0.009978</td>\n",
       "      <td>-0.011579</td>\n",
       "      <td>-0.020599</td>\n",
       "      <td>0.005208</td>\n",
       "    </tr>\n",
       "  </tbody>\n",
       "</table>\n",
       "<p>2585 rows × 5 columns</p>\n",
       "</div>"
      ],
      "text/plain": [
       "Ticker      BHARTIARTL.NS  HDFCBANK.NS  ICICIBANK.BO  RELIANCE.NS    TCS.NS\n",
       "Date                                                                       \n",
       "2015-01-02       0.005907     0.013821      0.027683    -0.002650  0.013229\n",
       "2015-01-05      -0.022439    -0.008479      0.001378    -0.011014 -0.015314\n",
       "2015-01-06      -0.007875    -0.015690     -0.042907    -0.046447 -0.037563\n",
       "2015-01-07       0.002397     0.002914     -0.026657     0.021534 -0.011883\n",
       "2015-01-08       0.017176     0.020788      0.024930    -0.014443  0.010737\n",
       "...                   ...          ...           ...          ...       ...\n",
       "2025-08-20       0.009745    -0.001458     -0.004291    -0.005012  0.026953\n",
       "2025-08-21       0.000778     0.001508      0.010814     0.008316  0.001290\n",
       "2025-08-22       0.001760    -0.013449     -0.006662    -0.011009 -0.015788\n",
       "2025-08-25      -0.001346    -0.000255     -0.002091     0.002410  0.027962\n",
       "2025-08-26      -0.014083    -0.009978     -0.011579    -0.020599  0.005208\n",
       "\n",
       "[2585 rows x 5 columns]"
      ]
     },
     "execution_count": 4,
     "metadata": {},
     "output_type": "execute_result"
    }
   ],
   "source": [
    "log_returns = np.log(df.Close/df.Close.shift(1)).dropna()\n",
    "log_returns"
   ]
  },
  {
   "cell_type": "code",
   "execution_count": 5,
   "id": "b0fe6a09-5a34-47ad-8023-d90bfdd309f9",
   "metadata": {},
   "outputs": [],
   "source": [
    "# Calculate daily standard deviation of returns"
   ]
  },
  {
   "cell_type": "code",
   "execution_count": 6,
   "id": "c389f482-85dc-4802-88c2-e7f8af15cc50",
   "metadata": {},
   "outputs": [
    {
     "data": {
      "text/plain": [
       "Ticker\n",
       "BHARTIARTL.NS    0.018616\n",
       "HDFCBANK.NS      0.014143\n",
       "ICICIBANK.BO     0.019450\n",
       "RELIANCE.NS      0.017268\n",
       "TCS.NS           0.014694\n",
       "dtype: float64"
      ]
     },
     "execution_count": 6,
     "metadata": {},
     "output_type": "execute_result"
    }
   ],
   "source": [
    "daily_std = log_returns.std()\n",
    "daily_std"
   ]
  },
  {
   "cell_type": "code",
   "execution_count": 7,
   "id": "1892f929-4e4e-408b-92f7-6808b1c906ca",
   "metadata": {},
   "outputs": [
    {
     "data": {
      "text/plain": [
       "Ticker\n",
       "BHARTIARTL.NS    29.551812\n",
       "HDFCBANK.NS      22.450546\n",
       "ICICIBANK.BO     30.875869\n",
       "RELIANCE.NS      27.412818\n",
       "TCS.NS           23.326139\n",
       "dtype: float64"
      ]
     },
     "execution_count": 7,
     "metadata": {},
     "output_type": "execute_result"
    }
   ],
   "source": [
    "annualized_vol = daily_std * np.sqrt(252)\n",
    "annualized_vol*100"
   ]
  },
  {
   "cell_type": "code",
   "execution_count": 8,
   "id": "0535f3d3-fc6a-4d6d-a28b-0816391fb419",
   "metadata": {},
   "outputs": [],
   "source": [
    "# Plot histogram of log returns with annualized volatility"
   ]
  },
  {
   "cell_type": "code",
   "execution_count": null,
   "id": "f5c37f54-7433-4ea7-bde5-44c74c9fd67f",
   "metadata": {},
   "outputs": [],
   "source": [
    "fig = make_subplots(rows=3, cols=3)\n",
    "\n",
    "trace0 = go.Histogram(x=log_returns[\"BHARTIARTL.NS\"],name=\"Airtel\")\n",
    "trace1 = go.Histogram(x=log_returns[\"HDFCBANK.NS\"],name=\"HDFC Bank\")\n",
    "trace2 = go.Histogram(x=log_returns[\"ICICIBANK.BO\"],name=\"ICICI Bank\")\n",
    "trace3 = go.Histogram(x=log_returns[\"RELIANCE.NS\"],name=\"Reliance Ind\")\n",
    "trace4 = go.Histogram(x=log_returns[\"TCS.NS\"],name=\"TCS\")\n",
    "\n",
    "fig.append_trace(trace0,1,1)\n",
    "fig.append_trace(trace1,1,2)\n",
    "fig.append_trace(trace2,1,3)\n",
    "fig.append_trace(trace3,2,1)\n",
    "fig.append_trace(trace4,2,2)\n",
    "\n",
    "fig.update_layout(autosize=False, width=1090, height=750, title = \"Log returns distribution\", \n",
    "                  xaxis = dict(title=\"Airtel Annualized Vol:\" +str(np.round(annualized_vol[\"BHARTIARTL.NS\"]*100,1))),\n",
    "                   xaxis2 = dict(title=\"HDFC Bank Annualized Vol:\" +str(np.round(annualized_vol[\"HDFCBANK.NS\"]*100,1))),\n",
    "                   xaxis3 = dict(title=\"ICICI Bank Annualized Vol:\" +str(np.round(annualized_vol[\"ICICIBANK.BO\"]*100,1))),\n",
    "                   xaxis4 = dict(title=\"Reliance Ind Annualized Vol:\" +str(np.round(annualized_vol[\"RELIANCE.NS\"]*100,1))),\n",
    "                   xaxis5 = dict(title=\"TCS Annualized Vol:\" +str(np.round(annualized_vol[\"TCS.NS\"]*100,1))),\n",
    "                 )\n",
    "\n",
    "fig.show()"
   ]
  },
  {
   "cell_type": "code",
   "execution_count": null,
   "id": "de67ed30-a23e-4b94-8f3d-51310c0794d5",
   "metadata": {},
   "outputs": [],
   "source": [
    "# Trailing volatility over time"
   ]
  },
  {
   "cell_type": "code",
   "execution_count": null,
   "id": "ac4f66c6-81ab-46a3-bd3a-01e8afa6a1ac",
   "metadata": {},
   "outputs": [],
   "source": [
    "TRADING_DAYS = 60\n",
    "volatility = log_returns.rolling(window=TRADING_DAYS).std()*np.sqrt(TRADING_DAYS)"
   ]
  },
  {
   "cell_type": "code",
   "execution_count": null,
   "id": "1871353b-ebd2-42d8-9ca7-2ec74266f5f0",
   "metadata": {},
   "outputs": [],
   "source": [
    "volatility.plot().update_layout(title = \"Time-series volatility\",autosize=False, width=1090, height=520)"
   ]
  },
  {
   "cell_type": "code",
   "execution_count": null,
   "id": "59318916-5b1d-4558-a708-dca592a2768a",
   "metadata": {},
   "outputs": [],
   "source": [
    "# 1).Sharpe ratio"
   ]
  },
  {
   "cell_type": "code",
   "execution_count": null,
   "id": "3a486d43-ed38-4736-94f5-7d4dccd54a1a",
   "metadata": {},
   "outputs": [],
   "source": [
    "Rf = 0.058/252\n",
    "sharpe_ratio = (log_returns.rolling(window=TRADING_DAYS).mean() - Rf)*TRADING_DAYS/volatility"
   ]
  },
  {
   "cell_type": "code",
   "execution_count": null,
   "id": "c3baea08-1f1a-47a2-ab20-fa94864aab9f",
   "metadata": {},
   "outputs": [],
   "source": [
    "sharpe_ratio.plot().update_layout(title = \"Time-series sharpe ratio\",autosize=False, width=1090, height=520)"
   ]
  }
 ],
 "metadata": {
  "kernelspec": {
   "display_name": "Python [conda env:base] *",
   "language": "python",
   "name": "conda-base-py"
  },
  "language_info": {
   "codemirror_mode": {
    "name": "ipython",
    "version": 3
   },
   "file_extension": ".py",
   "mimetype": "text/x-python",
   "name": "python",
   "nbconvert_exporter": "python",
   "pygments_lexer": "ipython3",
   "version": "3.13.5"
  }
 },
 "nbformat": 4,
 "nbformat_minor": 5
}
