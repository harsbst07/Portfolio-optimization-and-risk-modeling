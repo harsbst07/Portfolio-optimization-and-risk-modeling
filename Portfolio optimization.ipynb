{
 "cells": [
  {
   "cell_type": "code",
   "execution_count": 1,
   "id": "48f79c12-4bad-4ed1-a1b3-0bae8b8ef71d",
   "metadata": {},
   "outputs": [],
   "source": [
    "import yfinance as yf\n",
    "import pandas as pd\n",
    "import datetime as dt\n",
    "import numpy as np\n",
    "from scipy.optimize import minimize\n",
    "import matplotlib.pyplot as plt"
   ]
  },
  {
   "cell_type": "code",
   "execution_count": 2,
   "id": "7720e4f7-6ce0-4471-b596-243091b6353a",
   "metadata": {},
   "outputs": [],
   "source": [
    "# Section 1: Define Tickers and Time Range"
   ]
  },
  {
   "cell_type": "code",
   "execution_count": 3,
   "id": "7360f25c-db06-4c6c-bbc5-9afcbc3d0ecb",
   "metadata": {},
   "outputs": [],
   "source": [
    "end = dt.datetime.now()\n",
    "start = dt.datetime(2015,1,1)\n",
    "tickers = [\"BHARTIARTL.NS\",\"HDFCBANK.NS\",\"ICICIBANK.BO\",\"RELIANCE.NS\",\"TCS.NS\"]"
   ]
  },
  {
   "cell_type": "code",
   "execution_count": 4,
   "id": "337c39b2-3232-40cb-bcc2-9f337852bb8d",
   "metadata": {},
   "outputs": [],
   "source": [
    "# Download Close Price"
   ]
  },
  {
   "cell_type": "code",
   "execution_count": 5,
   "id": "a0d0508c-c75f-4915-bfa6-1a58eb5e8ae6",
   "metadata": {},
   "outputs": [
    {
     "name": "stderr",
     "output_type": "stream",
     "text": [
      "C:\\Users\\HP\\AppData\\Local\\Temp\\ipykernel_98016\\1111147862.py:1: FutureWarning: YF.download() has changed argument auto_adjust default to True\n",
      "  df = yf.download([\"BHARTIARTL.NS\",\"HDFCBANK.NS\",\"ICICIBANK.BO\",\"RELIANCE.NS\",\"TCS.NS\"],start,end)\n",
      "[*********************100%***********************]  5 of 5 completed\n"
     ]
    },
    {
     "data": {
      "text/html": [
       "<div>\n",
       "<style scoped>\n",
       "    .dataframe tbody tr th:only-of-type {\n",
       "        vertical-align: middle;\n",
       "    }\n",
       "\n",
       "    .dataframe tbody tr th {\n",
       "        vertical-align: top;\n",
       "    }\n",
       "\n",
       "    .dataframe thead th {\n",
       "        text-align: right;\n",
       "    }\n",
       "</style>\n",
       "<table border=\"1\" class=\"dataframe\">\n",
       "  <thead>\n",
       "    <tr style=\"text-align: right;\">\n",
       "      <th>Ticker</th>\n",
       "      <th>BHARTIARTL.NS</th>\n",
       "      <th>HDFCBANK.NS</th>\n",
       "      <th>ICICIBANK.BO</th>\n",
       "      <th>RELIANCE.NS</th>\n",
       "      <th>TCS.NS</th>\n",
       "    </tr>\n",
       "    <tr>\n",
       "      <th>Date</th>\n",
       "      <th></th>\n",
       "      <th></th>\n",
       "      <th></th>\n",
       "      <th></th>\n",
       "      <th></th>\n",
       "    </tr>\n",
       "  </thead>\n",
       "  <tbody>\n",
       "    <tr>\n",
       "      <th>2015-01-01</th>\n",
       "      <td>308.073517</td>\n",
       "      <td>212.546021</td>\n",
       "      <td>293.033234</td>\n",
       "      <td>189.999802</td>\n",
       "      <td>1073.510498</td>\n",
       "    </tr>\n",
       "    <tr>\n",
       "      <th>2015-01-02</th>\n",
       "      <td>309.898743</td>\n",
       "      <td>215.504089</td>\n",
       "      <td>301.258514</td>\n",
       "      <td>189.496933</td>\n",
       "      <td>1087.806641</td>\n",
       "    </tr>\n",
       "    <tr>\n",
       "      <th>2015-01-05</th>\n",
       "      <td>303.022491</td>\n",
       "      <td>213.684586</td>\n",
       "      <td>301.673920</td>\n",
       "      <td>187.421249</td>\n",
       "      <td>1071.275024</td>\n",
       "    </tr>\n",
       "    <tr>\n",
       "      <th>2015-01-06</th>\n",
       "      <td>300.645508</td>\n",
       "      <td>210.358154</td>\n",
       "      <td>289.003784</td>\n",
       "      <td>178.915207</td>\n",
       "      <td>1031.781372</td>\n",
       "    </tr>\n",
       "    <tr>\n",
       "      <th>2015-01-07</th>\n",
       "      <td>301.367096</td>\n",
       "      <td>210.972107</td>\n",
       "      <td>281.401703</td>\n",
       "      <td>182.809799</td>\n",
       "      <td>1019.593201</td>\n",
       "    </tr>\n",
       "  </tbody>\n",
       "</table>\n",
       "</div>"
      ],
      "text/plain": [
       "Ticker      BHARTIARTL.NS  HDFCBANK.NS  ICICIBANK.BO  RELIANCE.NS       TCS.NS\n",
       "Date                                                                          \n",
       "2015-01-01     308.073517   212.546021    293.033234   189.999802  1073.510498\n",
       "2015-01-02     309.898743   215.504089    301.258514   189.496933  1087.806641\n",
       "2015-01-05     303.022491   213.684586    301.673920   187.421249  1071.275024\n",
       "2015-01-06     300.645508   210.358154    289.003784   178.915207  1031.781372\n",
       "2015-01-07     301.367096   210.972107    281.401703   182.809799  1019.593201"
      ]
     },
     "execution_count": 5,
     "metadata": {},
     "output_type": "execute_result"
    }
   ],
   "source": [
    "df = yf.download([\"BHARTIARTL.NS\",\"HDFCBANK.NS\",\"ICICIBANK.BO\",\"RELIANCE.NS\",\"TCS.NS\"],start,end)\n",
    "Close = df.Close\n",
    "Close.head()"
   ]
  },
  {
   "cell_type": "code",
   "execution_count": 6,
   "id": "18c4a81a-a145-45e1-b03d-cc8d5e078932",
   "metadata": {},
   "outputs": [],
   "source": [
    "# Calculate Lognormal Returns"
   ]
  },
  {
   "cell_type": "code",
   "execution_count": 7,
   "id": "702ea196-db71-431e-af6f-6645e01a19b1",
   "metadata": {},
   "outputs": [
    {
     "data": {
      "text/html": [
       "<div>\n",
       "<style scoped>\n",
       "    .dataframe tbody tr th:only-of-type {\n",
       "        vertical-align: middle;\n",
       "    }\n",
       "\n",
       "    .dataframe tbody tr th {\n",
       "        vertical-align: top;\n",
       "    }\n",
       "\n",
       "    .dataframe thead th {\n",
       "        text-align: right;\n",
       "    }\n",
       "</style>\n",
       "<table border=\"1\" class=\"dataframe\">\n",
       "  <thead>\n",
       "    <tr style=\"text-align: right;\">\n",
       "      <th>Ticker</th>\n",
       "      <th>BHARTIARTL.NS</th>\n",
       "      <th>HDFCBANK.NS</th>\n",
       "      <th>ICICIBANK.BO</th>\n",
       "      <th>RELIANCE.NS</th>\n",
       "      <th>TCS.NS</th>\n",
       "    </tr>\n",
       "    <tr>\n",
       "      <th>Date</th>\n",
       "      <th></th>\n",
       "      <th></th>\n",
       "      <th></th>\n",
       "      <th></th>\n",
       "      <th></th>\n",
       "    </tr>\n",
       "  </thead>\n",
       "  <tbody>\n",
       "    <tr>\n",
       "      <th>2015-01-02</th>\n",
       "      <td>0.005907</td>\n",
       "      <td>0.013821</td>\n",
       "      <td>0.027683</td>\n",
       "      <td>-0.002650</td>\n",
       "      <td>0.013229</td>\n",
       "    </tr>\n",
       "    <tr>\n",
       "      <th>2015-01-05</th>\n",
       "      <td>-0.022439</td>\n",
       "      <td>-0.008479</td>\n",
       "      <td>0.001378</td>\n",
       "      <td>-0.011014</td>\n",
       "      <td>-0.015314</td>\n",
       "    </tr>\n",
       "    <tr>\n",
       "      <th>2015-01-06</th>\n",
       "      <td>-0.007875</td>\n",
       "      <td>-0.015689</td>\n",
       "      <td>-0.042907</td>\n",
       "      <td>-0.046447</td>\n",
       "      <td>-0.037563</td>\n",
       "    </tr>\n",
       "    <tr>\n",
       "      <th>2015-01-07</th>\n",
       "      <td>0.002397</td>\n",
       "      <td>0.002914</td>\n",
       "      <td>-0.026657</td>\n",
       "      <td>0.021534</td>\n",
       "      <td>-0.011883</td>\n",
       "    </tr>\n",
       "    <tr>\n",
       "      <th>2015-01-08</th>\n",
       "      <td>0.017175</td>\n",
       "      <td>0.020788</td>\n",
       "      <td>0.024930</td>\n",
       "      <td>-0.014443</td>\n",
       "      <td>0.010738</td>\n",
       "    </tr>\n",
       "    <tr>\n",
       "      <th>...</th>\n",
       "      <td>...</td>\n",
       "      <td>...</td>\n",
       "      <td>...</td>\n",
       "      <td>...</td>\n",
       "      <td>...</td>\n",
       "    </tr>\n",
       "    <tr>\n",
       "      <th>2025-08-20</th>\n",
       "      <td>0.009745</td>\n",
       "      <td>-0.001458</td>\n",
       "      <td>-0.004291</td>\n",
       "      <td>-0.005012</td>\n",
       "      <td>0.026953</td>\n",
       "    </tr>\n",
       "    <tr>\n",
       "      <th>2025-08-21</th>\n",
       "      <td>0.000778</td>\n",
       "      <td>0.001508</td>\n",
       "      <td>0.010814</td>\n",
       "      <td>0.008316</td>\n",
       "      <td>0.001290</td>\n",
       "    </tr>\n",
       "    <tr>\n",
       "      <th>2025-08-22</th>\n",
       "      <td>0.001760</td>\n",
       "      <td>-0.013449</td>\n",
       "      <td>-0.006662</td>\n",
       "      <td>-0.011009</td>\n",
       "      <td>-0.015788</td>\n",
       "    </tr>\n",
       "    <tr>\n",
       "      <th>2025-08-25</th>\n",
       "      <td>-0.001346</td>\n",
       "      <td>-0.000255</td>\n",
       "      <td>-0.002091</td>\n",
       "      <td>0.002410</td>\n",
       "      <td>0.027962</td>\n",
       "    </tr>\n",
       "    <tr>\n",
       "      <th>2025-08-26</th>\n",
       "      <td>-0.014083</td>\n",
       "      <td>-0.009978</td>\n",
       "      <td>-0.011579</td>\n",
       "      <td>-0.020599</td>\n",
       "      <td>0.005208</td>\n",
       "    </tr>\n",
       "  </tbody>\n",
       "</table>\n",
       "<p>2585 rows × 5 columns</p>\n",
       "</div>"
      ],
      "text/plain": [
       "Ticker      BHARTIARTL.NS  HDFCBANK.NS  ICICIBANK.BO  RELIANCE.NS    TCS.NS\n",
       "Date                                                                       \n",
       "2015-01-02       0.005907     0.013821      0.027683    -0.002650  0.013229\n",
       "2015-01-05      -0.022439    -0.008479      0.001378    -0.011014 -0.015314\n",
       "2015-01-06      -0.007875    -0.015689     -0.042907    -0.046447 -0.037563\n",
       "2015-01-07       0.002397     0.002914     -0.026657     0.021534 -0.011883\n",
       "2015-01-08       0.017175     0.020788      0.024930    -0.014443  0.010738\n",
       "...                   ...          ...           ...          ...       ...\n",
       "2025-08-20       0.009745    -0.001458     -0.004291    -0.005012  0.026953\n",
       "2025-08-21       0.000778     0.001508      0.010814     0.008316  0.001290\n",
       "2025-08-22       0.001760    -0.013449     -0.006662    -0.011009 -0.015788\n",
       "2025-08-25      -0.001346    -0.000255     -0.002091     0.002410  0.027962\n",
       "2025-08-26      -0.014083    -0.009978     -0.011579    -0.020599  0.005208\n",
       "\n",
       "[2585 rows x 5 columns]"
      ]
     },
     "execution_count": 7,
     "metadata": {},
     "output_type": "execute_result"
    }
   ],
   "source": [
    "log_returns = np.log(df.Close/df.Close.shift(1)).dropna()\n",
    "log_returns"
   ]
  },
  {
   "cell_type": "code",
   "execution_count": 8,
   "id": "cceae98d-3fcb-4215-ae4e-1b884ab16063",
   "metadata": {},
   "outputs": [],
   "source": [
    "# Calculate the Covariance Matrix"
   ]
  },
  {
   "cell_type": "code",
   "execution_count": 9,
   "id": "01b274e8-16cb-4202-9618-2db079d770be",
   "metadata": {},
   "outputs": [
    {
     "data": {
      "text/html": [
       "<div>\n",
       "<style scoped>\n",
       "    .dataframe tbody tr th:only-of-type {\n",
       "        vertical-align: middle;\n",
       "    }\n",
       "\n",
       "    .dataframe tbody tr th {\n",
       "        vertical-align: top;\n",
       "    }\n",
       "\n",
       "    .dataframe thead th {\n",
       "        text-align: right;\n",
       "    }\n",
       "</style>\n",
       "<table border=\"1\" class=\"dataframe\">\n",
       "  <thead>\n",
       "    <tr style=\"text-align: right;\">\n",
       "      <th>Ticker</th>\n",
       "      <th>BHARTIARTL.NS</th>\n",
       "      <th>HDFCBANK.NS</th>\n",
       "      <th>ICICIBANK.BO</th>\n",
       "      <th>RELIANCE.NS</th>\n",
       "      <th>TCS.NS</th>\n",
       "    </tr>\n",
       "    <tr>\n",
       "      <th>Ticker</th>\n",
       "      <th></th>\n",
       "      <th></th>\n",
       "      <th></th>\n",
       "      <th></th>\n",
       "      <th></th>\n",
       "    </tr>\n",
       "  </thead>\n",
       "  <tbody>\n",
       "    <tr>\n",
       "      <th>BHARTIARTL.NS</th>\n",
       "      <td>0.087331</td>\n",
       "      <td>0.018774</td>\n",
       "      <td>0.026954</td>\n",
       "      <td>0.022734</td>\n",
       "      <td>0.012506</td>\n",
       "    </tr>\n",
       "    <tr>\n",
       "      <th>HDFCBANK.NS</th>\n",
       "      <td>0.018774</td>\n",
       "      <td>0.050403</td>\n",
       "      <td>0.035910</td>\n",
       "      <td>0.024319</td>\n",
       "      <td>0.012824</td>\n",
       "    </tr>\n",
       "    <tr>\n",
       "      <th>ICICIBANK.BO</th>\n",
       "      <td>0.026954</td>\n",
       "      <td>0.035910</td>\n",
       "      <td>0.095332</td>\n",
       "      <td>0.031483</td>\n",
       "      <td>0.015268</td>\n",
       "    </tr>\n",
       "    <tr>\n",
       "      <th>RELIANCE.NS</th>\n",
       "      <td>0.022734</td>\n",
       "      <td>0.024319</td>\n",
       "      <td>0.031483</td>\n",
       "      <td>0.075146</td>\n",
       "      <td>0.017583</td>\n",
       "    </tr>\n",
       "    <tr>\n",
       "      <th>TCS.NS</th>\n",
       "      <td>0.012506</td>\n",
       "      <td>0.012824</td>\n",
       "      <td>0.015268</td>\n",
       "      <td>0.017583</td>\n",
       "      <td>0.054411</td>\n",
       "    </tr>\n",
       "  </tbody>\n",
       "</table>\n",
       "</div>"
      ],
      "text/plain": [
       "Ticker         BHARTIARTL.NS  HDFCBANK.NS  ICICIBANK.BO  RELIANCE.NS    TCS.NS\n",
       "Ticker                                                                        \n",
       "BHARTIARTL.NS       0.087331     0.018774      0.026954     0.022734  0.012506\n",
       "HDFCBANK.NS         0.018774     0.050403      0.035910     0.024319  0.012824\n",
       "ICICIBANK.BO        0.026954     0.035910      0.095332     0.031483  0.015268\n",
       "RELIANCE.NS         0.022734     0.024319      0.031483     0.075146  0.017583\n",
       "TCS.NS              0.012506     0.012824      0.015268     0.017583  0.054411"
      ]
     },
     "execution_count": 9,
     "metadata": {},
     "output_type": "execute_result"
    }
   ],
   "source": [
    "cov_matrix = log_returns.cov()*252\n",
    "cov_matrix"
   ]
  },
  {
   "cell_type": "code",
   "execution_count": 10,
   "id": "a4af0b5d-05b8-4e93-90ed-b82c19ca4c52",
   "metadata": {},
   "outputs": [],
   "source": [
    "# Define Portfolio Performance Metrics"
   ]
  },
  {
   "cell_type": "code",
   "execution_count": 11,
   "id": "34565001-6425-47bb-8b3f-7e256def3a20",
   "metadata": {},
   "outputs": [],
   "source": [
    "# 1). Calculate the portfolio standard deviation"
   ]
  },
  {
   "cell_type": "code",
   "execution_count": 12,
   "id": "d1484313-bf8d-41a9-8727-977063574e61",
   "metadata": {},
   "outputs": [],
   "source": [
    "def std_dev(weights, cov_matrix):\n",
    "    variance = weights.T @ cov_matrix @ weights\n",
    "    return np.sqrt(variance)"
   ]
  },
  {
   "cell_type": "code",
   "execution_count": 13,
   "id": "9742dba4-4aad-4c70-b74f-b142558b936c",
   "metadata": {},
   "outputs": [],
   "source": [
    "# 2). Calculate the expected return"
   ]
  },
  {
   "cell_type": "code",
   "execution_count": 14,
   "id": "ca864ff7-4074-4671-a439-83ec514cfefb",
   "metadata": {},
   "outputs": [],
   "source": [
    "def exp_return(weights, log_returns):\n",
    "    return np.sum(log_returns.mean()*weights)*252"
   ]
  },
  {
   "cell_type": "code",
   "execution_count": 15,
   "id": "0c71ca1e-a259-47ae-bb49-e5a94ce2a8de",
   "metadata": {},
   "outputs": [],
   "source": [
    "# 3). Calculate the Sharpe Ratio"
   ]
  },
  {
   "cell_type": "code",
   "execution_count": 16,
   "id": "c94a19b0-7e00-4e18-9596-57b412435a45",
   "metadata": {},
   "outputs": [],
   "source": [
    "def sharpe_ratio(weights, log_returns, cov_matrix, risk_free_rate):\n",
    "    return(exp_return(weights, log_returns) - risk_free_rate) / std_dev(weights, cov_matrix)"
   ]
  },
  {
   "cell_type": "code",
   "execution_count": 17,
   "id": "2f63452b-a580-42af-82ca-151fee177e11",
   "metadata": {},
   "outputs": [],
   "source": [
    "# Portfolio Optimization"
   ]
  },
  {
   "cell_type": "code",
   "execution_count": 18,
   "id": "2f5645de-2bdb-4b35-b8cd-987d622da626",
   "metadata": {},
   "outputs": [],
   "source": [
    "# Set the risk-free rate"
   ]
  },
  {
   "cell_type": "code",
   "execution_count": 19,
   "id": "fccd00de-20c1-4d01-981f-2e96382cb6bc",
   "metadata": {},
   "outputs": [],
   "source": [
    "risk_free_rate = 0.058"
   ]
  },
  {
   "cell_type": "code",
   "execution_count": 20,
   "id": "4841ca6c-b77d-4729-83a8-b9702c978bfd",
   "metadata": {},
   "outputs": [],
   "source": [
    "# Define the function to minimize (negative Sharpe Ratio)"
   ]
  },
  {
   "cell_type": "code",
   "execution_count": 21,
   "id": "ee7129b3-36df-4490-b32f-b0f16e23e1f5",
   "metadata": {},
   "outputs": [],
   "source": [
    "def neg_sharpe_ratio(weights, log_returns, cov_matrix, risk_free_rate):\n",
    "    return -sharpe_ratio(weights, log_returns, cov_matrix, risk_free_rate)"
   ]
  },
  {
   "cell_type": "code",
   "execution_count": 22,
   "id": "e3e2bd60-16c1-46a9-bccc-207384d077ce",
   "metadata": {},
   "outputs": [],
   "source": [
    "constraints = {\"type\": \"eq\", \"fun\": lambda weights: np.sum(weights) - 1}\n",
    "bounds = [(0, 1) for _ in range(len(tickers))]"
   ]
  },
  {
   "cell_type": "code",
   "execution_count": 23,
   "id": "6ee27ee4-b910-4e8b-af00-2df2a187a51a",
   "metadata": {},
   "outputs": [
    {
     "data": {
      "text/plain": [
       "array([0.2, 0.2, 0.2, 0.2, 0.2])"
      ]
     },
     "execution_count": 23,
     "metadata": {},
     "output_type": "execute_result"
    }
   ],
   "source": [
    "initial_weights = np.array([1/len(tickers)]*len(tickers))\n",
    "initial_weights"
   ]
  },
  {
   "cell_type": "code",
   "execution_count": 24,
   "id": "6b5d9d50-3a17-487f-b79c-b612cfe2fd13",
   "metadata": {},
   "outputs": [],
   "source": [
    "# Optimize the weights to maximize Sharpe Ratio"
   ]
  },
  {
   "cell_type": "code",
   "execution_count": 25,
   "id": "716b9c82-e36d-48e7-8251-def85441dfc0",
   "metadata": {},
   "outputs": [],
   "source": [
    "optimized_results = minimize(neg_sharpe_ratio, initial_weights, args=(log_returns, cov_matrix, risk_free_rate), method= \"SLSQP\", constraints=constraints, bounds=bounds)"
   ]
  },
  {
   "cell_type": "code",
   "execution_count": 26,
   "id": "f94452f2-d48b-4432-bb19-6f847df35efb",
   "metadata": {},
   "outputs": [],
   "source": [
    "# Get the optimal weights"
   ]
  },
  {
   "cell_type": "code",
   "execution_count": 27,
   "id": "ee41d5c1-a699-4109-80ab-a8af77edeaad",
   "metadata": {},
   "outputs": [],
   "source": [
    "optimal_weights = optimized_results.x"
   ]
  },
  {
   "cell_type": "code",
   "execution_count": 28,
   "id": "47320e9e-7320-4c02-9b0e-2109864746c6",
   "metadata": {},
   "outputs": [],
   "source": [
    "# Analyze the Optimal Portfolio"
   ]
  },
  {
   "cell_type": "code",
   "execution_count": 29,
   "id": "ff731cda-77bb-48d4-9fc2-65f9b58592d9",
   "metadata": {},
   "outputs": [],
   "source": [
    "# Display analytics of the optimal portfolio"
   ]
  },
  {
   "cell_type": "code",
   "execution_count": 30,
   "id": "a92c7647-aba9-48fe-a8a9-a6adb0598004",
   "metadata": {},
   "outputs": [
    {
     "name": "stdout",
     "output_type": "stream",
     "text": [
      "Optimal Weights:\n",
      "BHARTIARTL.NS:0.2718\n",
      "HDFCBANK.NS:0.3821\n",
      "ICICIBANK.BO:0.0000\n",
      "RELIANCE.NS:0.3461\n",
      "TCS.NS:0.0000\n",
      "\n",
      "Expected Annual Return: 0.1740\n",
      "Expected Volatility: 0.1934\n",
      "Sharpe Ratio: 0.5996\n"
     ]
    }
   ],
   "source": [
    "print(\"Optimal Weights:\")\n",
    "for ticker, weight in zip(tickers, optimal_weights):\n",
    "    print(f\"{ticker}:{weight:.4f}\")\n",
    "\n",
    "print()\n",
    "\n",
    "optimal_portfolio_return = exp_return(optimal_weights, log_returns)\n",
    "optimal_portfolio_volatility = std_dev(optimal_weights, cov_matrix)\n",
    "optimal_sharpe_ratio = sharpe_ratio(optimal_weights, log_returns, cov_matrix, risk_free_rate)\n",
    "\n",
    "print(f\"Expected Annual Return: {optimal_portfolio_return:.4f}\")\n",
    "print(f\"Expected Volatility: {optimal_portfolio_volatility:.4f}\")\n",
    "print(f\"Sharpe Ratio: {optimal_sharpe_ratio:.4f}\")\n"
   ]
  },
  {
   "cell_type": "code",
   "execution_count": 31,
   "id": "15ac9b76-74da-492a-ab4c-332df4a09bd6",
   "metadata": {},
   "outputs": [],
   "source": [
    "# Display the final portfolio in a plot"
   ]
  },
  {
   "cell_type": "code",
   "execution_count": 32,
   "id": "ad4785a7-2d4e-44da-a625-d7b6c412ffda",
   "metadata": {},
   "outputs": [
    {
     "data": {
      "image/png": "[encoded data removed]",
      "text/plain": [
       "<Figure size 1000x500 with 1 Axes>"
      ]
     },
     "metadata": {},
     "output_type": "display_data"
    }
   ],
   "source": [
    "plt.figure(figsize=(10,5))\n",
    "plt.bar(tickers, optimal_weights)\n",
    "\n",
    "plt.xlabel(\"Stocks\")\n",
    "plt.ylabel(\"Optimal Weights\")\n",
    "plt.title(\"Optimal Portfolio Weights\")\n",
    "plt.savefig(\"my_chart.pdf\")\n",
    "\n",
    "plt.show()"
   ]
  }
 ],
 "metadata": {
  "kernelspec": {
   "display_name": "Python [conda env:base] *",
   "language": "python",
   "name": "conda-base-py"
  },
  "language_info": {
   "codemirror_mode": {
    "name": "ipython",
    "version": 3
   },
   "file_extension": ".py",
   "mimetype": "text/x-python",
   "name": "python",
   "nbconvert_exporter": "python",
   "pygments_lexer": "ipython3",
   "version": "3.13.5"
  }
 },
 "nbformat": 4,
 "nbformat_minor": 5
}
